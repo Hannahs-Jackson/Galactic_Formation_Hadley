{
 "cells": [
  {
   "cell_type": "markdown",
   "metadata": {},
   "source": [
    "# Analysis Tool\n",
    "\n",
    "### {notes on how to run go here}"
   ]
  },
  {
   "cell_type": "code",
   "execution_count": 1,
   "metadata": {},
   "outputs": [],
   "source": [
    "# Import Python Libraries\n",
    "import numpy as np\n",
    "import jax      # PIP JAX install - Search for the windows [cpu] version\n",
    "import jaxlib\n",
    "import jax.numpy as jnp\n",
    "import matplotlib as mpl\n",
    "import matplotlib.pyplot as plt\n",
    "from matplotlib import style\n",
    "import pandas as pd\n",
    "import numpyro\n",
    "import numpyro.distributions as dist"
   ]
  },
  {
   "cell_type": "code",
   "execution_count": 2,
   "metadata": {},
   "outputs": [
    {
     "data": {
      "text/plain": [
       "<Figure size 640x480 with 0 Axes>"
      ]
     },
     "metadata": {},
     "output_type": "display_data"
    }
   ],
   "source": [
    "# Figure Parameters Reset to default\n",
    "def fig_reset():\n",
    "    style.use('default')  # Clear any custom styles that might have been applied\n",
    "    plt.close('all')  # Clear any active figures\n",
    "    plt.set_cmap('viridis')  # Reset default colormaps\n",
    "    plt.rcParams.update(plt.rcParamsDefault)  # Clear any manually set default figure or axes properties\n",
    "    plt.ioff()  # Reset interactive mode\n",
    "    mpl.rcdefaults()  # Reset all rcParams to default values\n",
    "    mpl.rcParams.update(mpl.rcParamsDefault)  # Additional resets for completeness\n",
    "\n",
    "fig_reset() # Reset MATPLOTLIB parameters to default\n",
    "\n",
    "# Colors\n",
    "color_in = 'red'\n",
    "color_mid = 'green'\n",
    "color_out = 'blue'\n",
    "color_by_num = ['crimson', 'orange', 'goldenrod', 'green', 'skyblue', 'darkorchid']\n",
    "\n",
    "# Color pallette\n",
    "α = .5\n",
    "ß = 0.25\n",
    "line_width = 1.5\n",
    "full_line_sty = [':', '--', '-', '-.']\n",
    "full_marker_pal = ['o','x','^','s','P','H','*']\n",
    "full_color_pal = ['red', 'orange', 'gold', 'green', 'b', 'darkorchid', 'chocolate', 'deeppink', 'cyan', 'darkcyan', 'black']\n",
    "full_color_pal_disk = ['dimgrey', 'b', 'limegreen', 'firebrick', 'gold', 'orchid', 'chocolate', 'deeppink', 'cyan', 'darkcyan', 'black']\n"
   ]
  },
  {
   "cell_type": "code",
   "execution_count": 3,
   "metadata": {},
   "outputs": [],
   "source": [
    "# Generate Settled Models Database\n",
    "\n",
    "    # test for settled model\n",
    "        # if Ture, move model into Settled_Models folder\n",
    "\n",
    "    "
   ]
  }
 ],
 "metadata": {
  "kernelspec": {
   "display_name": "base",
   "language": "python",
   "name": "python3"
  },
  "language_info": {
   "codemirror_mode": {
    "name": "ipython",
    "version": 3
   },
   "file_extension": ".py",
   "mimetype": "text/x-python",
   "name": "python",
   "nbconvert_exporter": "python",
   "pygments_lexer": "ipython3",
   "version": "3.11.7"
  }
 },
 "nbformat": 4,
 "nbformat_minor": 2
}
